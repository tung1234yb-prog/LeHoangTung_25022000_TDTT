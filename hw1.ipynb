{
 "cells": [
  {
   "cell_type": "code",
   "execution_count": 2,
   "id": "5674bc51",
   "metadata": {},
   "outputs": [
    {
     "name": "stdout",
     "output_type": "stream",
     "text": [
      "20\n"
     ]
    }
   ],
   "source": [
    "#Bai 1\n",
    "n= int(input())\n",
    "print(n*2)"
   ]
  },
  {
   "cell_type": "code",
   "execution_count": 7,
   "id": "0d0bbf8e",
   "metadata": {},
   "outputs": [
    {
     "name": "stdout",
     "output_type": "stream",
     "text": [
      " 5 6\n"
     ]
    },
    {
     "name": "stdout",
     "output_type": "stream",
     "text": [
      "Phan dien tich con de trong cay xung quanh la 10.38\n"
     ]
    }
   ],
   "source": [
    "#Bai 2\n",
    "a, b= map(float, input().split())\n",
    "print(f'Phan dien tich con de trong cay xung quanh la {(a*b-(a/2)**2*3.14):.2f}')"
   ]
  },
  {
   "cell_type": "code",
   "execution_count": 13,
   "id": "6fe1d5d2",
   "metadata": {},
   "outputs": [
    {
     "name": "stdout",
     "output_type": "stream",
     "text": [
      " G\n"
     ]
    },
    {
     "name": "stdout",
     "output_type": "stream",
     "text": [
      "g\n"
     ]
    }
   ],
   "source": [
    "#Bai 3\n",
    "c= input()\n",
    "if len(c) == 1:\n",
    "    if c.isupper():\n",
    "        print(c.lower())\n",
    "    elif c.islower():\n",
    "        print(c.upper())\n",
    "    else:\n",
    "        print('Day khong phai la mot ki tu alphabet')\n",
    "else:\n",
    "    print('Ban nhap khong phai mot ki tu')"
   ]
  },
  {
   "cell_type": "code",
   "execution_count": 14,
   "id": "19f748ec",
   "metadata": {},
   "outputs": [
    {
     "name": "stdout",
     "output_type": "stream",
     "text": [
      " g\n"
     ]
    },
    {
     "name": "stdout",
     "output_type": "stream",
     "text": [
      "g la ki tu alphabet\n"
     ]
    }
   ],
   "source": [
    "#Bai 4\n",
    "c= input()\n",
    "if c.isalpha:\n",
    "    print(f'{c} la ki tu alphabet')\n",
    "else: \n",
    "    print(f'{c} khong phai la ki tu alphabet')"
   ]
  },
  {
   "cell_type": "code",
   "execution_count": 17,
   "id": "6caeda23",
   "metadata": {},
   "outputs": [
    {
     "name": "stdout",
     "output_type": "stream",
     "text": [
      " G\n"
     ]
    },
    {
     "name": "stdout",
     "output_type": "stream",
     "text": [
      "f\n"
     ]
    }
   ],
   "source": [
    "#Bai 5\n",
    "c= input()\n",
    "if c.isupper():\n",
    "    if c == 'A':\n",
    "        print(f'Khong co chu cai thuong nao lien truoc chu cai thuong tuong ung cua {c}')\n",
    "    else:\n",
    "        print(chr(ord(c)+32-1))\n",
    "else:\n",
    "    print('Day khong phai chu cai in hoa')\n"
   ]
  },
  {
   "cell_type": "code",
   "execution_count": 18,
   "id": "1d486a39",
   "metadata": {},
   "outputs": [
    {
     "name": "stdout",
     "output_type": "stream",
     "text": [
      " 7 5 3\n"
     ]
    },
    {
     "name": "stdout",
     "output_type": "stream",
     "text": [
      "6.5\n"
     ]
    }
   ],
   "source": [
    "#Bai 6\n",
    "a, b, c= map(float, input().split())\n",
    "p= (a+b+c)/2\n",
    "if a>0 and b>0 and c>0 and a+b>c and a+c>b and b+c>a:\n",
    "    print(f'{(p*(p-a)*(p-b)*(p-c))**0.5:.1f}')\n",
    "else: print(\"Khong phai 3 canh cua tam giac\")\n",
    "    "
   ]
  },
  {
   "cell_type": "code",
   "execution_count": 24,
   "id": "8bc8f425",
   "metadata": {},
   "outputs": [
    {
     "name": "stdout",
     "output_type": "stream",
     "text": [
      " fahfakjfhajshjfalsfhjakf\n"
     ]
    },
    {
     "name": "stdout",
     "output_type": "stream",
     "text": [
      "a\n",
      "h\n"
     ]
    }
   ],
   "source": [
    "#Bai 7\n",
    "s= input()\n",
    "if len(s) >= 20:\n",
    "    print(s[4], s[8], sep= '\\n')\n",
    "else:\n",
    "    print('Do dai cua chuoi ki tu nho hon 20')"
   ]
  },
  {
   "cell_type": "code",
   "execution_count": 27,
   "id": "f16d451f",
   "metadata": {},
   "outputs": [
    {
     "name": "stdout",
     "output_type": "stream",
     "text": [
      "Ten chu ho: Pham Xuan Toai\n",
      "Chi so thang truoc: 1020\n",
      "Chi so thang nay: 1070\n"
     ]
    },
    {
     "name": "stdout",
     "output_type": "stream",
     "text": [
      "Ho va ten: Pham Xuan Toai\n",
      "Tien phai tra la: 107136\n"
     ]
    }
   ],
   "source": [
    "#Bai 8\n",
    "ten= input(\"Ten chu ho:\")\n",
    "chiso1= int(input(\"Chi so thang truoc:\"))\n",
    "chiso2= int(input(\"Chi so thang nay:\"))\n",
    "so= chiso2-chiso1\n",
    "tien = 0\n",
    "if so>400:\n",
    "    tien+= (so-400)*3460\n",
    "    so= 400\n",
    "if so>300:\n",
    "    tien+= (so-300)*3350\n",
    "    so =300\n",
    "if so>200:\n",
    "    tien+= (so-200)*2998\n",
    "    tien= 200\n",
    "if so>100:\n",
    "    tien+= (so-100)*2380\n",
    "    tien= 100\n",
    "if so>50:\n",
    "    tien+= (so-50)*2050\n",
    "    tien= 50\n",
    "if so >0:\n",
    "    tien+= so*1984\n",
    "print(\"Ho va ten:\", ten)\n",
    "print(f'Tien phai tra la: {(tien*1.08):.0f}')"
   ]
  },
  {
   "cell_type": "code",
   "execution_count": 41,
   "id": "0fbb900a",
   "metadata": {},
   "outputs": [
    {
     "name": "stdout",
     "output_type": "stream",
     "text": [
      "n la so le\n"
     ]
    }
   ],
   "source": [
    "#Bai 1\n",
    "n= int(input())\n",
    "if n%2==0:\n",
    "    print(\"n la so chan\")\n",
    "else: \n",
    "    print(\"n la so le\")"
   ]
  },
  {
   "cell_type": "code",
   "execution_count": 44,
   "id": "fa78414e",
   "metadata": {},
   "outputs": [
    {
     "name": "stdout",
     "output_type": "stream",
     "text": [
      "False\n"
     ]
    }
   ],
   "source": [
    "#Bai 2\n",
    "n= int(input())\n",
    "if n%10==5:\n",
    "    print(\"True\")\n",
    "else:\n",
    "    print(\"False\")"
   ]
  },
  {
   "cell_type": "code",
   "execution_count": 50,
   "id": "10377d3f",
   "metadata": {},
   "outputs": [
    {
     "name": "stdout",
     "output_type": "stream",
     "text": [
      "True\n"
     ]
    }
   ],
   "source": [
    "#Bai 3\n",
    "n= int(input())\n",
    "if n%3==0 and n%5==0:\n",
    "    print(\"True\")\n",
    "else:\n",
    "    print(\"False\")\n"
   ]
  },
  {
   "cell_type": "code",
   "execution_count": 51,
   "id": "4b878166",
   "metadata": {},
   "outputs": [
    {
     "name": "stdout",
     "output_type": "stream",
     "text": [
      "Du tuoi bau cu\n"
     ]
    }
   ],
   "source": [
    "#Bai 4\n",
    "n= int(input())\n",
    "if n>=18:\n",
    "    print(\"Du tuoi bau cu\")\n",
    "else: \n",
    "    print(\"Khong du tuoi bau cu\")   "
   ]
  },
  {
   "cell_type": "code",
   "execution_count": null,
   "id": "d5eeb780",
   "metadata": {},
   "outputs": [
    {
     "name": "stdout",
     "output_type": "stream",
     "text": [
      "a = b\n"
     ]
    }
   ],
   "source": [
    "#Bai 5\n",
    "a, b= map(int, input().split())\n",
    "if a>b:\n",
    "    print(a)\n",
    "elif a<b:\n",
    "    print(b)\n",
    "else:\n",
    "    print(\"2 so bang nhau\")"
   ]
  },
  {
   "cell_type": "code",
   "execution_count": 59,
   "id": "81e487aa",
   "metadata": {},
   "outputs": [
    {
     "name": "stdout",
     "output_type": "stream",
     "text": [
      "- khong la chu cai hay so\n"
     ]
    }
   ],
   "source": [
    "#Bai 6\n",
    "n= input()\n",
    "if 'a' <= n <= 'z' or 'A' <= n <= 'Z':\n",
    "    print(n, \"la chu cai\")\n",
    "elif '0' <= n <= '9':\n",
    "    print(n, \"la chu so\")\n",
    "else:\n",
    "    print(n, \"khong la chu cai hay so\")"
   ]
  },
  {
   "cell_type": "code",
   "execution_count": null,
   "id": "38a98033",
   "metadata": {},
   "outputs": [
    {
     "name": "stdout",
     "output_type": "stream",
     "text": [
      "Trung binh\n"
     ]
    }
   ],
   "source": [
    "#Bai 7\n",
    "n= int(input())\n",
    "if 8 <= n <= 10:\n",
    "    print(\"Gioi\")\n",
    "elif 6.5 <= n < 8:\n",
    "    print(\"Kha\")\n",
    "elif 5 <= n < 6.5:\n",
    "    print(\"Trung binh\")\n",
    "elif 0 <= n < 5:\n",
    "    print(\"Yeu\")"
   ]
  },
  {
   "cell_type": "code",
   "execution_count": 61,
   "id": "643f9879",
   "metadata": {},
   "outputs": [
    {
     "name": "stdout",
     "output_type": "stream",
     "text": [
      "Nam 2025 khong phai nam nhuan\n"
     ]
    }
   ],
   "source": [
    "#Bai 8\n",
    "n= int(input())\n",
    "if n%400==0 or (n%4==0 and n%100!=0):\n",
    "    print(f'Nam {n} la nam nhuan')\n",
    "else:\n",
    "    print(f'Nam {n} khong phai nam nhuan')"
   ]
  },
  {
   "cell_type": "code",
   "execution_count": 67,
   "id": "ae03655d",
   "metadata": {},
   "outputs": [
    {
     "name": "stdout",
     "output_type": "stream",
     "text": [
      "Bon\n"
     ]
    }
   ],
   "source": [
    "#Bai 9\n",
    "n= int(input())\n",
    "match n:\n",
    "    case 0:\n",
    "        print(\"Khong\")\n",
    "    case 1:\n",
    "        print(\"Mot\")\n",
    "    case 2:\n",
    "        print(\"Hai\")\n",
    "    case 3:\n",
    "        print(\"Ba\")\n",
    "    case 4:\n",
    "        print(\"Bon\")\n",
    "    case 5:\n",
    "        print(\"Nam\")\n",
    "    case 6:\n",
    "        print(\"Sau\")\n",
    "    case 7:\n",
    "        print(\"Bay\")\n",
    "    case 8:\n",
    "        print(\"Tam\")\n",
    "    case 9:\n",
    "        print(\"Chin\")"
   ]
  },
  {
   "cell_type": "code",
   "execution_count": 68,
   "id": "d17aa236",
   "metadata": {},
   "outputs": [
    {
     "name": "stdout",
     "output_type": "stream",
     "text": [
      "Qua mon\n"
     ]
    }
   ],
   "source": [
    "#Bai 10\n",
    "n= int(input())\n",
    "if n >= 4:\n",
    "    print(\"Qua mon\")\n",
    "else: \n",
    "    print(\"Hoc lai\")"
   ]
  },
  {
   "cell_type": "code",
   "execution_count": 70,
   "id": "1152b14b",
   "metadata": {},
   "outputs": [
    {
     "name": "stdout",
     "output_type": "stream",
     "text": [
      "18\n",
      "Du 18 tuoi\n"
     ]
    }
   ],
   "source": [
    "nam= int(input())\n",
    "tuoi= 2025 - nam\n",
    "print(tuoi)\n",
    "if tuoi < 18:\n",
    "    print(\"Khong du 18 tuoi\")\n",
    "else:\n",
    "    print(\"Du 18 tuoi\")"
   ]
  }
 ],
 "metadata": {
  "kernelspec": {
   "display_name": "Python 3",
   "language": "python",
   "name": "python3"
  },
  "language_info": {
   "codemirror_mode": {
    "name": "ipython",
    "version": 3
   },
   "file_extension": ".py",
   "mimetype": "text/x-python",
   "name": "python",
   "nbconvert_exporter": "python",
   "pygments_lexer": "ipython3",
   "version": "3.13.7"
  }
 },
 "nbformat": 4,
 "nbformat_minor": 5
}
