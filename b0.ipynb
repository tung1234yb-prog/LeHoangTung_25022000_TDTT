{
 "cells": [
  {
   "cell_type": "code",
   "execution_count": 1,
   "id": "90bdb73f-d562-45d2-8ed9-eccb084f691d",
   "metadata": {},
   "outputs": [
    {
     "name": "stdout",
     "output_type": "stream",
     "text": [
      "Hello World\n"
     ]
    }
   ],
   "source": [
    "#W2A1\n",
    "print(\"Hello World\")"
   ]
  },
  {
   "cell_type": "code",
   "execution_count": 2,
   "id": "507c6e40-a741-4928-8ceb-1585add78f73",
   "metadata": {},
   "outputs": [
    {
     "name": "stdin",
     "output_type": "stream",
     "text": [
      " tung\n"
     ]
    },
    {
     "name": "stdout",
     "output_type": "stream",
     "text": [
      "Hello tung\n"
     ]
    }
   ],
   "source": [
    "#W2A2\n",
    "ten= input()\n",
    "print(\"Hello\", ten)"
   ]
  },
  {
   "cell_type": "code",
   "execution_count": 4,
   "id": "d2ebe96e-105d-44c4-98da-a6ea01f8160b",
   "metadata": {},
   "outputs": [
    {
     "name": "stdin",
     "output_type": "stream",
     "text": [
      " 2\n",
      " 3\n"
     ]
    },
    {
     "name": "stdout",
     "output_type": "stream",
     "text": [
      "5, -1, 6, 0, 2, 0.67\n"
     ]
    }
   ],
   "source": [
    "#W2A3\n",
    "a= int(input())\n",
    "b= int(input())\n",
    "print(f'{a+b}, {a-b}, {a*b}, {a//b}, {a%b}, {(a/b):.2f}')"
   ]
  },
  {
   "cell_type": "code",
   "execution_count": 14,
   "id": "01c700eb-2135-46cc-91d0-f8dad0c52bdd",
   "metadata": {},
   "outputs": [
    {
     "name": "stdin",
     "output_type": "stream",
     "text": [
      " 3 4 6 3 5 3\n"
     ]
    },
    {
     "name": "stdout",
     "output_type": "stream",
     "text": [
      "3.80\n"
     ]
    }
   ],
   "source": [
    "#W2A4\n",
    "a1,b1,c1,a2,b2,a3=map(int,input().split())\n",
    "print(f'{(((a1+b1+c1)+(a2+b2)*2+a3*3)/10):.2f}')"
   ]
  },
  {
   "cell_type": "code",
   "execution_count": 16,
   "id": "84aa40f7-dd55-427f-b57c-15167a7350e6",
   "metadata": {},
   "outputs": [
    {
     "name": "stdin",
     "output_type": "stream",
     "text": [
      " 3    4\n"
     ]
    },
    {
     "name": "stdout",
     "output_type": "stream",
     "text": [
      "81\n"
     ]
    }
   ],
   "source": [
    "#W2A5\n",
    "a, b =map(int, input().split())\n",
    "print(a**b)"
   ]
  },
  {
   "cell_type": "code",
   "execution_count": 22,
   "id": "51399e91-0356-48a6-b2fc-b5550a57ccc6",
   "metadata": {},
   "outputs": [
    {
     "name": "stdin",
     "output_type": "stream",
     "text": [
      " h\n"
     ]
    },
    {
     "name": "stdout",
     "output_type": "stream",
     "text": [
      "H\n"
     ]
    }
   ],
   "source": [
    "#W2A6\n",
    "a=input()\n",
    "print(chr(ord(a)-32))"
   ]
  },
  {
   "cell_type": "code",
   "execution_count": 23,
   "id": "f87010e1-c06f-48ba-a868-02cbc1ac4cc3",
   "metadata": {},
   "outputs": [
    {
     "name": "stdout",
     "output_type": "stream",
     "text": [
      "512\n",
      "512\n"
     ]
    }
   ],
   "source": [
    "#W2A7\n",
    "print(((13 ** 2) * 3) + 5 )\n",
    "print( 13**2*3 + 5 )"
   ]
  },
  {
   "cell_type": "code",
   "execution_count": 25,
   "id": "7193e169-c3c3-45b9-a702-149579bf8954",
   "metadata": {},
   "outputs": [
    {
     "name": "stdin",
     "output_type": "stream",
     "text": [
      " 36\n"
     ]
    },
    {
     "name": "stdout",
     "output_type": "stream",
     "text": [
      "96.80\n"
     ]
    }
   ],
   "source": [
    "#W2A8\n",
    "c=int(input())\n",
    "print(f'{ (9/5*c + 32):.2f}')"
   ]
  },
  {
   "cell_type": "code",
   "execution_count": 26,
   "id": "973ddaa5-5ba8-466f-aeec-115dbb2490c3",
   "metadata": {},
   "outputs": [
    {
     "name": "stdin",
     "output_type": "stream",
     "text": [
      " 2958\n"
     ]
    },
    {
     "name": "stdout",
     "output_type": "stream",
     "text": [
      "4151.20\n"
     ]
    }
   ],
   "source": [
    "#W2A9\n",
    "x=int(input())\n",
    "print(f'{(x*140/100+10):.2f}')"
   ]
  },
  {
   "cell_type": "code",
   "execution_count": 29,
   "id": "fb9810c9-5033-4fe6-bc18-547c3597f290",
   "metadata": {},
   "outputs": [
    {
     "name": "stdin",
     "output_type": "stream",
     "text": [
      " bob alice helen\n"
     ]
    },
    {
     "name": "stdout",
     "output_type": "stream",
     "text": [
      "Hi helen, alice and bob\n"
     ]
    }
   ],
   "source": [
    "#W2A10\n",
    "a, b, c= map(str, input().split())\n",
    "print(f'Hi {c}, {b} and {a}')"
   ]
  },
  {
   "cell_type": "code",
   "execution_count": 30,
   "id": "faabb8ea-629a-4e8e-b830-9872a299b5f3",
   "metadata": {},
   "outputs": [
    {
     "name": "stdin",
     "output_type": "stream",
     "text": [
      " 3 54\n"
     ]
    },
    {
     "name": "stdout",
     "output_type": "stream",
     "text": [
      "14040\n"
     ]
    }
   ],
   "source": [
    "#W2A11\n",
    "a, b= map(int, input().split())\n",
    "print(a*3600+b*60)"
   ]
  },
  {
   "cell_type": "code",
   "execution_count": 36,
   "id": "bdf6b664-842a-4a88-ab38-1d1302464e04",
   "metadata": {},
   "outputs": [
    {
     "name": "stdin",
     "output_type": "stream",
     "text": [
      " 3\n"
     ]
    },
    {
     "name": "stdout",
     "output_type": "stream",
     "text": [
      "54\n"
     ]
    }
   ],
   "source": [
    "#W2A12\n",
    "n=int(input())\n",
    "print(6*n**2)"
   ]
  },
  {
   "cell_type": "code",
   "execution_count": 38,
   "id": "71cea17d-d8a5-474b-88f6-a909a5479811",
   "metadata": {},
   "outputs": [
    {
     "name": "stdin",
     "output_type": "stream",
     "text": [
      " 5 19\n"
     ]
    },
    {
     "name": "stdout",
     "output_type": "stream",
     "text": [
      "5\n"
     ]
    }
   ],
   "source": [
    "#W2A13\n",
    "a, b= map(int, input().split())\n",
    "print(a*b%10)"
   ]
  },
  {
   "cell_type": "code",
   "execution_count": 39,
   "id": "1e51783d-bcda-4ef4-a0dc-14829d26242a",
   "metadata": {},
   "outputs": [
    {
     "name": "stdin",
     "output_type": "stream",
     "text": [
      " 5 6\n"
     ]
    },
    {
     "name": "stdout",
     "output_type": "stream",
     "text": [
      "6 5\n"
     ]
    }
   ],
   "source": [
    "#W2A14\n",
    "a, b= map(int, input().split())\n",
    "print(b, a)\n"
   ]
  },
  {
   "cell_type": "code",
   "execution_count": 46,
   "id": "dc7bba31-db33-4b73-b384-64ad9d4b513c",
   "metadata": {},
   "outputs": [
    {
     "name": "stdin",
     "output_type": "stream",
     "text": [
      " 4\n"
     ]
    },
    {
     "name": "stdout",
     "output_type": "stream",
     "text": [
      "73\n"
     ]
    }
   ],
   "source": [
    "#W2A15\n",
    "n=int(input())\n",
    "print(6*n*(n-1)+1)"
   ]
  },
  {
   "cell_type": "code",
   "execution_count": 48,
   "id": "a1cedbf9-a773-4040-b810-99556f6bd779",
   "metadata": {},
   "outputs": [
    {
     "name": "stdout",
     "output_type": "stream",
     "text": [
      "Spring\n",
      "Summer\n",
      "Autumn\n",
      "Winter\n"
     ]
    }
   ],
   "source": [
    "#W2A16\n",
    "print(\"\"\"Spring\n",
    "Summer\n",
    "Autumn\n",
    "Winter\"\"\")"
   ]
  },
  {
   "cell_type": "code",
   "execution_count": 49,
   "id": "fde4933d-198d-4171-b6c2-dc0a693ef920",
   "metadata": {},
   "outputs": [
    {
     "name": "stdout",
     "output_type": "stream",
     "text": [
      "\n",
      "  *\n",
      " ***\n",
      "*****\n"
     ]
    }
   ],
   "source": [
    "#W2A17\n",
    "print('''\n",
    "  *\n",
    " ***\n",
    "*****''')"
   ]
  },
  {
   "cell_type": "code",
   "execution_count": 51,
   "id": "2761875b-14e0-41f9-a950-efe67885d4ec",
   "metadata": {},
   "outputs": [
    {
     "name": "stdout",
     "output_type": "stream",
     "text": [
      "\n",
      "#####   # #     ##### #####  \n",
      "  #     #   #     #     #  \n",
      "  #     #    #    #     #  \n",
      "  #     #   #     #     #  \n",
      "  #     # #       #     #  \n"
     ]
    }
   ],
   "source": [
    "#W2A18\n",
    "print('''\n",
    "#####   # #     ##### #####  \n",
    "  #     #   #     #     #  \n",
    "  #     #    #    #     #  \n",
    "  #     #   #     #     #  \n",
    "  #     # #       #     #  ''')"
   ]
  },
  {
   "cell_type": "code",
   "execution_count": 52,
   "id": "db3b248e-263e-47ad-9c65-c3285344bbbf",
   "metadata": {},
   "outputs": [
    {
     "name": "stdout",
     "output_type": "stream",
     "text": [
      "\n",
      "Monday  \n",
      "Tuesday \n",
      "Wednesday \n",
      "Thursday \n",
      "Friday \n",
      "Saturday \n",
      "Sunday \n"
     ]
    }
   ],
   "source": [
    "#W2A19\n",
    "print('''\n",
    "Monday  \n",
    "Tuesday \n",
    "Wednesday \n",
    "Thursday \n",
    "Friday \n",
    "Saturday \n",
    "Sunday ''')"
   ]
  },
  {
   "cell_type": "code",
   "execution_count": 54,
   "id": "4a5073d9-08ad-4ad0-abc7-225ba7155280",
   "metadata": {},
   "outputs": [
    {
     "name": "stdout",
     "output_type": "stream",
     "text": [
      "January \n",
      "February \n",
      "March \n",
      "April \n",
      "May \n",
      "June \n",
      "July \n",
      "August \n",
      "September\n",
      "October \n",
      "November \n",
      "December  \n"
     ]
    }
   ],
   "source": [
    "#W2A20\n",
    "print('''January \n",
    "February \n",
    "March \n",
    "April \n",
    "May \n",
    "June \n",
    "July \n",
    "August \n",
    "September\n",
    "October \n",
    "November \n",
    "December  ''')"
   ]
  },
  {
   "cell_type": "code",
   "execution_count": 55,
   "id": "51602a55-791d-438f-9b37-719212da8449",
   "metadata": {},
   "outputs": [
    {
     "name": "stdout",
     "output_type": "stream",
     "text": [
      "\n",
      "Hello, world \n",
      "Hello, world \n",
      "Hello, world \n",
      "Hello, world \n",
      "Hello, world \n",
      "Hello, world \n",
      "Hello, world \n",
      "Hello, world \n",
      "Hello, world \n",
      "Hello, world \n"
     ]
    }
   ],
   "source": [
    "#W2A21\n",
    "print('''\n",
    "Hello, world \n",
    "Hello, world \n",
    "Hello, world \n",
    "Hello, world \n",
    "Hello, world \n",
    "Hello, world \n",
    "Hello, world \n",
    "Hello, world \n",
    "Hello, world \n",
    "Hello, world ''')\n"
   ]
  },
  {
   "cell_type": "code",
   "execution_count": null,
   "id": "b6404c97-9883-4c5a-9cc0-67fdd9fae936",
   "metadata": {},
   "outputs": [],
   "source": []
  }
 ],
 "metadata": {
  "kernelspec": {
   "display_name": "Python 3 (ipykernel)",
   "language": "python",
   "name": "python3"
  },
  "language_info": {
   "codemirror_mode": {
    "name": "ipython",
    "version": 3
   },
   "file_extension": ".py",
   "mimetype": "text/x-python",
   "name": "python",
   "nbconvert_exporter": "python",
   "pygments_lexer": "ipython3",
   "version": "3.11.9"
  }
 },
 "nbformat": 4,
 "nbformat_minor": 5
}
